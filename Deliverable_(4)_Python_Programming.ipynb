{
  "nbformat": 4,
  "nbformat_minor": 0,
  "metadata": {
    "colab": {
      "provenance": []
    },
    "kernelspec": {
      "name": "python3",
      "display_name": "Python 3"
    },
    "language_info": {
      "name": "python"
    }
  },
  "cells": [
    {
      "cell_type": "code",
      "execution_count": 1,
      "metadata": {
        "id": "yB8T__o3Uu1B",
        "colab": {
          "base_uri": "https://localhost:8080/"
        },
        "outputId": "ea80212f-dd20-4055-cba3-338fdc68edeb"
      },
      "outputs": [
        {
          "output_type": "stream",
          "name": "stdout",
          "text": [
            "Enter an integer number between 5 and 15: 5\n",
            "The elements of the array are: 38 43 41 38 30\n",
            "The sum is: 190\n"
          ]
        }
      ],
      "source": [
        "import random\n",
        "\n",
        "def populate_list(length):\n",
        "    my_list = []\n",
        "    for _ in range(length):\n",
        "        my_list.append(random.randint(10, 50))\n",
        "    return my_list\n",
        "\n",
        "def sum_list(my_list):\n",
        "    return sum(my_list)\n",
        "\n",
        "while True:\n",
        "    user_input = int(input(\"Enter an integer number between 5 and 15: \"))\n",
        "    if 5 <= user_input <= 15:\n",
        "        break\n",
        "    print(\"Invalid input. Please try again.\")\n",
        "\n",
        "my_list = populate_list(user_input)\n",
        "print(\"The elements of the array are:\", ' '.join(map(str, my_list)))\n",
        "\n",
        "sum_value = sum_list(my_list)\n",
        "print(\"The sum is:\", sum_value)"
      ]
    }
  ]
}